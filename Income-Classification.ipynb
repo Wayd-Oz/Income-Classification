{
 "cells": [
  {
   "cell_type": "code",
   "execution_count": 1,
   "id": "420fd512",
   "metadata": {},
   "outputs": [],
   "source": [
    "import numpy as np\n",
    "import matplotlib.pyplot as plt\n",
    "import pandas as pd\n",
    "import seaborn as sns\n",
    "import warnings\n",
    "import time\n",
    "\n",
    "from sklearn import datasets\n",
    "from sklearn.preprocessing import StandardScaler\n",
    "from sklearn.datasets import make_classification\n",
    "from sklearn.model_selection import cross_val_score\n",
    "from sklearn.datasets import make_classification\n",
    "from sklearn.pipeline import make_pipeline\n",
    "from sklearn.preprocessing import OrdinalEncoder\n",
    "from sklearn.metrics import accuracy_score\n",
    "from sklearn.metrics import precision_score\n",
    "from sklearn.metrics import recall_score\n",
    "from sklearn.metrics import f1_score\n",
    "from sklearn.metrics import roc_auc_score\n",
    "from sklearn.feature_selection import SelectKBest, chi2\n",
    "\n",
    "#Classifiers\n",
    "from sklearn.neighbors import KNeighborsClassifier\n",
    "from sklearn.naive_bayes import GaussianNB\n",
    "from sklearn import svm\n",
    "from sklearn.tree import DecisionTreeClassifier\n",
    "from sklearn.ensemble import RandomForestClassifier\n",
    "from sklearn.ensemble import AdaBoostClassifier\n",
    "from sklearn.ensemble import GradientBoostingClassifier\n",
    "from sklearn.discriminant_analysis import LinearDiscriminantAnalysis\n",
    "from sklearn.neural_network import MLPClassifier\n",
    "from sklearn.linear_model import LogisticRegression"
   ]
  },
  {
   "cell_type": "code",
   "execution_count": 2,
   "id": "0c8d3391",
   "metadata": {},
   "outputs": [],
   "source": [
    "#load data\n",
    "train_data = pd.read_csv('adult.data', skipinitialspace=True)\n",
    "test_data = pd.read_csv('adult.test', skipinitialspace=True, skiprows=1, names= ['Age', 'State-gov', 'fnlwgt', 'Bachelors', 'edu-num', 'status', 'Occupation', 'Relationship', 'Race', 'Sex', 'capital-gain', 'capital-loss', 'hours', 'Country', '<=50K'])\n",
    "train_data.columns = ['Age', 'State-gov', 'fnlwgt', 'Bachelors', 'edu-num', 'status', 'Occupation', 'Relationship', 'Race', 'Sex', 'capital-gain', 'capital-loss', 'hours', 'Country', '<=50K']"
   ]
  },
  {
   "cell_type": "code",
   "execution_count": 3,
   "id": "f928f36f",
   "metadata": {},
   "outputs": [
    {
     "data": {
      "text/html": [
       "<div>\n",
       "<style scoped>\n",
       "    .dataframe tbody tr th:only-of-type {\n",
       "        vertical-align: middle;\n",
       "    }\n",
       "\n",
       "    .dataframe tbody tr th {\n",
       "        vertical-align: top;\n",
       "    }\n",
       "\n",
       "    .dataframe thead th {\n",
       "        text-align: right;\n",
       "    }\n",
       "</style>\n",
       "<table border=\"1\" class=\"dataframe\">\n",
       "  <thead>\n",
       "    <tr style=\"text-align: right;\">\n",
       "      <th></th>\n",
       "      <th>Age</th>\n",
       "      <th>State-gov</th>\n",
       "      <th>fnlwgt</th>\n",
       "      <th>Bachelors</th>\n",
       "      <th>edu-num</th>\n",
       "      <th>status</th>\n",
       "      <th>Occupation</th>\n",
       "      <th>Relationship</th>\n",
       "      <th>Race</th>\n",
       "      <th>Sex</th>\n",
       "      <th>capital-gain</th>\n",
       "      <th>capital-loss</th>\n",
       "      <th>hours</th>\n",
       "      <th>Country</th>\n",
       "      <th>&lt;=50K</th>\n",
       "    </tr>\n",
       "  </thead>\n",
       "  <tbody>\n",
       "    <tr>\n",
       "      <th>0</th>\n",
       "      <td>50</td>\n",
       "      <td>Self-emp-not-inc</td>\n",
       "      <td>83311</td>\n",
       "      <td>Bachelors</td>\n",
       "      <td>13</td>\n",
       "      <td>Married-civ-spouse</td>\n",
       "      <td>Exec-managerial</td>\n",
       "      <td>Husband</td>\n",
       "      <td>White</td>\n",
       "      <td>Male</td>\n",
       "      <td>0</td>\n",
       "      <td>0</td>\n",
       "      <td>13</td>\n",
       "      <td>United-States</td>\n",
       "      <td>&lt;=50K</td>\n",
       "    </tr>\n",
       "    <tr>\n",
       "      <th>1</th>\n",
       "      <td>38</td>\n",
       "      <td>Private</td>\n",
       "      <td>215646</td>\n",
       "      <td>HS-grad</td>\n",
       "      <td>9</td>\n",
       "      <td>Divorced</td>\n",
       "      <td>Handlers-cleaners</td>\n",
       "      <td>Not-in-family</td>\n",
       "      <td>White</td>\n",
       "      <td>Male</td>\n",
       "      <td>0</td>\n",
       "      <td>0</td>\n",
       "      <td>40</td>\n",
       "      <td>United-States</td>\n",
       "      <td>&lt;=50K</td>\n",
       "    </tr>\n",
       "    <tr>\n",
       "      <th>2</th>\n",
       "      <td>53</td>\n",
       "      <td>Private</td>\n",
       "      <td>234721</td>\n",
       "      <td>11th</td>\n",
       "      <td>7</td>\n",
       "      <td>Married-civ-spouse</td>\n",
       "      <td>Handlers-cleaners</td>\n",
       "      <td>Husband</td>\n",
       "      <td>Black</td>\n",
       "      <td>Male</td>\n",
       "      <td>0</td>\n",
       "      <td>0</td>\n",
       "      <td>40</td>\n",
       "      <td>United-States</td>\n",
       "      <td>&lt;=50K</td>\n",
       "    </tr>\n",
       "    <tr>\n",
       "      <th>3</th>\n",
       "      <td>28</td>\n",
       "      <td>Private</td>\n",
       "      <td>338409</td>\n",
       "      <td>Bachelors</td>\n",
       "      <td>13</td>\n",
       "      <td>Married-civ-spouse</td>\n",
       "      <td>Prof-specialty</td>\n",
       "      <td>Wife</td>\n",
       "      <td>Black</td>\n",
       "      <td>Female</td>\n",
       "      <td>0</td>\n",
       "      <td>0</td>\n",
       "      <td>40</td>\n",
       "      <td>Cuba</td>\n",
       "      <td>&lt;=50K</td>\n",
       "    </tr>\n",
       "    <tr>\n",
       "      <th>4</th>\n",
       "      <td>37</td>\n",
       "      <td>Private</td>\n",
       "      <td>284582</td>\n",
       "      <td>Masters</td>\n",
       "      <td>14</td>\n",
       "      <td>Married-civ-spouse</td>\n",
       "      <td>Exec-managerial</td>\n",
       "      <td>Wife</td>\n",
       "      <td>White</td>\n",
       "      <td>Female</td>\n",
       "      <td>0</td>\n",
       "      <td>0</td>\n",
       "      <td>40</td>\n",
       "      <td>United-States</td>\n",
       "      <td>&lt;=50K</td>\n",
       "    </tr>\n",
       "  </tbody>\n",
       "</table>\n",
       "</div>"
      ],
      "text/plain": [
       "   Age         State-gov  fnlwgt  Bachelors  edu-num              status  \\\n",
       "0   50  Self-emp-not-inc   83311  Bachelors       13  Married-civ-spouse   \n",
       "1   38           Private  215646    HS-grad        9            Divorced   \n",
       "2   53           Private  234721       11th        7  Married-civ-spouse   \n",
       "3   28           Private  338409  Bachelors       13  Married-civ-spouse   \n",
       "4   37           Private  284582    Masters       14  Married-civ-spouse   \n",
       "\n",
       "          Occupation   Relationship   Race     Sex  capital-gain  \\\n",
       "0    Exec-managerial        Husband  White    Male             0   \n",
       "1  Handlers-cleaners  Not-in-family  White    Male             0   \n",
       "2  Handlers-cleaners        Husband  Black    Male             0   \n",
       "3     Prof-specialty           Wife  Black  Female             0   \n",
       "4    Exec-managerial           Wife  White  Female             0   \n",
       "\n",
       "   capital-loss  hours        Country  <=50K  \n",
       "0             0     13  United-States  <=50K  \n",
       "1             0     40  United-States  <=50K  \n",
       "2             0     40  United-States  <=50K  \n",
       "3             0     40           Cuba  <=50K  \n",
       "4             0     40  United-States  <=50K  "
      ]
     },
     "execution_count": 3,
     "metadata": {},
     "output_type": "execute_result"
    }
   ],
   "source": [
    "train_data.head()"
   ]
  },
  {
   "cell_type": "code",
   "execution_count": 4,
   "id": "d9b003ce",
   "metadata": {},
   "outputs": [
    {
     "data": {
      "text/html": [
       "<div>\n",
       "<style scoped>\n",
       "    .dataframe tbody tr th:only-of-type {\n",
       "        vertical-align: middle;\n",
       "    }\n",
       "\n",
       "    .dataframe tbody tr th {\n",
       "        vertical-align: top;\n",
       "    }\n",
       "\n",
       "    .dataframe thead th {\n",
       "        text-align: right;\n",
       "    }\n",
       "</style>\n",
       "<table border=\"1\" class=\"dataframe\">\n",
       "  <thead>\n",
       "    <tr style=\"text-align: right;\">\n",
       "      <th></th>\n",
       "      <th>Age</th>\n",
       "      <th>State-gov</th>\n",
       "      <th>fnlwgt</th>\n",
       "      <th>Bachelors</th>\n",
       "      <th>edu-num</th>\n",
       "      <th>status</th>\n",
       "      <th>Occupation</th>\n",
       "      <th>Relationship</th>\n",
       "      <th>Race</th>\n",
       "      <th>Sex</th>\n",
       "      <th>capital-gain</th>\n",
       "      <th>capital-loss</th>\n",
       "      <th>hours</th>\n",
       "      <th>Country</th>\n",
       "      <th>&lt;=50K</th>\n",
       "    </tr>\n",
       "  </thead>\n",
       "  <tbody>\n",
       "    <tr>\n",
       "      <th>0</th>\n",
       "      <td>25</td>\n",
       "      <td>Private</td>\n",
       "      <td>226802</td>\n",
       "      <td>11th</td>\n",
       "      <td>7</td>\n",
       "      <td>Never-married</td>\n",
       "      <td>Machine-op-inspct</td>\n",
       "      <td>Own-child</td>\n",
       "      <td>Black</td>\n",
       "      <td>Male</td>\n",
       "      <td>0</td>\n",
       "      <td>0</td>\n",
       "      <td>40</td>\n",
       "      <td>United-States</td>\n",
       "      <td>&lt;=50K.</td>\n",
       "    </tr>\n",
       "    <tr>\n",
       "      <th>1</th>\n",
       "      <td>38</td>\n",
       "      <td>Private</td>\n",
       "      <td>89814</td>\n",
       "      <td>HS-grad</td>\n",
       "      <td>9</td>\n",
       "      <td>Married-civ-spouse</td>\n",
       "      <td>Farming-fishing</td>\n",
       "      <td>Husband</td>\n",
       "      <td>White</td>\n",
       "      <td>Male</td>\n",
       "      <td>0</td>\n",
       "      <td>0</td>\n",
       "      <td>50</td>\n",
       "      <td>United-States</td>\n",
       "      <td>&lt;=50K.</td>\n",
       "    </tr>\n",
       "    <tr>\n",
       "      <th>2</th>\n",
       "      <td>28</td>\n",
       "      <td>Local-gov</td>\n",
       "      <td>336951</td>\n",
       "      <td>Assoc-acdm</td>\n",
       "      <td>12</td>\n",
       "      <td>Married-civ-spouse</td>\n",
       "      <td>Protective-serv</td>\n",
       "      <td>Husband</td>\n",
       "      <td>White</td>\n",
       "      <td>Male</td>\n",
       "      <td>0</td>\n",
       "      <td>0</td>\n",
       "      <td>40</td>\n",
       "      <td>United-States</td>\n",
       "      <td>&gt;50K.</td>\n",
       "    </tr>\n",
       "    <tr>\n",
       "      <th>3</th>\n",
       "      <td>44</td>\n",
       "      <td>Private</td>\n",
       "      <td>160323</td>\n",
       "      <td>Some-college</td>\n",
       "      <td>10</td>\n",
       "      <td>Married-civ-spouse</td>\n",
       "      <td>Machine-op-inspct</td>\n",
       "      <td>Husband</td>\n",
       "      <td>Black</td>\n",
       "      <td>Male</td>\n",
       "      <td>7688</td>\n",
       "      <td>0</td>\n",
       "      <td>40</td>\n",
       "      <td>United-States</td>\n",
       "      <td>&gt;50K.</td>\n",
       "    </tr>\n",
       "    <tr>\n",
       "      <th>4</th>\n",
       "      <td>18</td>\n",
       "      <td>?</td>\n",
       "      <td>103497</td>\n",
       "      <td>Some-college</td>\n",
       "      <td>10</td>\n",
       "      <td>Never-married</td>\n",
       "      <td>?</td>\n",
       "      <td>Own-child</td>\n",
       "      <td>White</td>\n",
       "      <td>Female</td>\n",
       "      <td>0</td>\n",
       "      <td>0</td>\n",
       "      <td>30</td>\n",
       "      <td>United-States</td>\n",
       "      <td>&lt;=50K.</td>\n",
       "    </tr>\n",
       "  </tbody>\n",
       "</table>\n",
       "</div>"
      ],
      "text/plain": [
       "   Age  State-gov  fnlwgt     Bachelors  edu-num              status  \\\n",
       "0   25    Private  226802          11th        7       Never-married   \n",
       "1   38    Private   89814       HS-grad        9  Married-civ-spouse   \n",
       "2   28  Local-gov  336951    Assoc-acdm       12  Married-civ-spouse   \n",
       "3   44    Private  160323  Some-college       10  Married-civ-spouse   \n",
       "4   18          ?  103497  Some-college       10       Never-married   \n",
       "\n",
       "          Occupation Relationship   Race     Sex  capital-gain  capital-loss  \\\n",
       "0  Machine-op-inspct    Own-child  Black    Male             0             0   \n",
       "1    Farming-fishing      Husband  White    Male             0             0   \n",
       "2    Protective-serv      Husband  White    Male             0             0   \n",
       "3  Machine-op-inspct      Husband  Black    Male          7688             0   \n",
       "4                  ?    Own-child  White  Female             0             0   \n",
       "\n",
       "   hours        Country   <=50K  \n",
       "0     40  United-States  <=50K.  \n",
       "1     50  United-States  <=50K.  \n",
       "2     40  United-States   >50K.  \n",
       "3     40  United-States   >50K.  \n",
       "4     30  United-States  <=50K.  "
      ]
     },
     "execution_count": 4,
     "metadata": {},
     "output_type": "execute_result"
    }
   ],
   "source": [
    "test_data.head()"
   ]
  },
  {
   "cell_type": "code",
   "execution_count": 5,
   "id": "8a76df69",
   "metadata": {},
   "outputs": [
    {
     "name": "stdout",
     "output_type": "stream",
     "text": [
      "Counts for State-gov column values:\n",
      "Never-worked            7\n",
      "Without-pay            14\n",
      "Federal-gov           960\n",
      "Self-emp-inc         1116\n",
      "State-gov            1297\n",
      "?                    1836\n",
      "Local-gov            2093\n",
      "Self-emp-not-inc     2541\n",
      "Private             22696\n",
      "Name: State-gov, dtype: int64\n"
     ]
    }
   ],
   "source": [
    "#check for missing/invalid vlaues in the state-gov column/feature (IDA)\n",
    "StateGov_values = train_data['State-gov'].value_counts(ascending=True, dropna=False)\n",
    "print(f'Counts for State-gov column values:\\n{StateGov_values}')"
   ]
  },
  {
   "cell_type": "code",
   "execution_count": 6,
   "id": "3d604a75",
   "metadata": {},
   "outputs": [
    {
     "name": "stdout",
     "output_type": "stream",
     "text": [
      "Counts for bachelors column values:\n",
      "Preschool          51\n",
      "1st-4th           168\n",
      "5th-6th           333\n",
      "Doctorate         413\n",
      "12th              433\n",
      "9th               514\n",
      "Prof-school       576\n",
      "7th-8th           646\n",
      "10th              933\n",
      "Assoc-acdm       1067\n",
      "11th             1175\n",
      "Assoc-voc        1382\n",
      "Masters          1723\n",
      "Bachelors        5354\n",
      "Some-college     7291\n",
      "HS-grad         10501\n",
      "Name: Bachelors, dtype: int64\n"
     ]
    }
   ],
   "source": [
    "#check for missing/invalid vlaues in the bachelores column/feature (IDA)\n",
    "bach_values = train_data['Bachelors'].value_counts(ascending=True, dropna=False)\n",
    "print(f'Counts for bachelors column values:\\n{bach_values}')"
   ]
  },
  {
   "cell_type": "code",
   "execution_count": 7,
   "id": "be48ca9c",
   "metadata": {},
   "outputs": [
    {
     "name": "stdout",
     "output_type": "stream",
     "text": [
      "Counts for status column values:\n",
      "Married-AF-spouse           23\n",
      "Married-spouse-absent      418\n",
      "Widowed                    993\n",
      "Separated                 1025\n",
      "Divorced                  4443\n",
      "Never-married            10682\n",
      "Married-civ-spouse       14976\n",
      "Name: status, dtype: int64\n"
     ]
    }
   ],
   "source": [
    "#check for missing/invalid vlaues in the status column/feature (IDA)\n",
    "status_values = train_data['status'].value_counts(ascending=True, dropna=False)\n",
    "print(f'Counts for status column values:\\n{status_values}')"
   ]
  },
  {
   "cell_type": "code",
   "execution_count": 8,
   "id": "dce396ac",
   "metadata": {},
   "outputs": [
    {
     "name": "stdout",
     "output_type": "stream",
     "text": [
      "Counts for Occupation column values:\n",
      "Armed-Forces            9\n",
      "Priv-house-serv       149\n",
      "Protective-serv       649\n",
      "Tech-support          928\n",
      "Farming-fishing       994\n",
      "Handlers-cleaners    1370\n",
      "Transport-moving     1597\n",
      "?                    1843\n",
      "Machine-op-inspct    2002\n",
      "Other-service        3295\n",
      "Sales                3650\n",
      "Adm-clerical         3769\n",
      "Exec-managerial      4066\n",
      "Craft-repair         4099\n",
      "Prof-specialty       4140\n",
      "Name: Occupation, dtype: int64\n"
     ]
    }
   ],
   "source": [
    "#check for missing/invalid vlaues in the occupation column/feature (IDA)\n",
    "occ_values = train_data['Occupation'].value_counts(ascending=True, dropna=False)\n",
    "print(f'Counts for Occupation column values:\\n{occ_values}')"
   ]
  },
  {
   "cell_type": "code",
   "execution_count": 9,
   "id": "21ec9bda",
   "metadata": {},
   "outputs": [
    {
     "name": "stdout",
     "output_type": "stream",
     "text": [
      "Counts for capital-gain column values:\n",
      "1111         1\n",
      "22040        1\n",
      "6097         1\n",
      "1455         1\n",
      "4931         1\n",
      "         ...  \n",
      "99999      159\n",
      "7298       246\n",
      "7688       284\n",
      "15024      347\n",
      "0        29849\n",
      "Name: capital-gain, Length: 119, dtype: int64\n"
     ]
    }
   ],
   "source": [
    "#check for missing/invalid vlaues in the capital-gain column/feature (IDA)\n",
    "cg_values = train_data['capital-gain'].value_counts(ascending=True, dropna=False)\n",
    "print(f'Counts for capital-gain column values:\\n{cg_values}')"
   ]
  },
  {
   "cell_type": "code",
   "execution_count": 10,
   "id": "107035e5",
   "metadata": {},
   "outputs": [
    {
     "name": "stdout",
     "output_type": "stream",
     "text": [
      "Counts for capital-loss column values:\n",
      "2201        1\n",
      "1944        1\n",
      "2472        1\n",
      "1539        1\n",
      "1411        1\n",
      "        ...  \n",
      "1848       51\n",
      "1887      159\n",
      "1977      168\n",
      "1902      202\n",
      "0       31041\n",
      "Name: capital-loss, Length: 92, dtype: int64\n"
     ]
    }
   ],
   "source": [
    "#check for missing/invalid vlaues in the capital-loss column/feature (IDA)\n",
    "cl_values = train_data['capital-loss'].value_counts(ascending=True, dropna=False)\n",
    "print(f'Counts for capital-loss column values:\\n{cl_values}')"
   ]
  },
  {
   "cell_type": "code",
   "execution_count": 11,
   "id": "883c3ebe",
   "metadata": {},
   "outputs": [
    {
     "name": "stdout",
     "output_type": "stream",
     "text": [
      "Counts for Country column values:\n",
      "Holand-Netherlands                1\n",
      "Scotland                         12\n",
      "Honduras                         13\n",
      "Hungary                          13\n",
      "Outlying-US(Guam-USVI-etc)       14\n",
      "Yugoslavia                       16\n",
      "Laos                             18\n",
      "Thailand                         18\n",
      "Trinadad&Tobago                  19\n",
      "Cambodia                         19\n",
      "Hong                             20\n",
      "Ireland                          24\n",
      "Ecuador                          28\n",
      "Greece                           29\n",
      "France                           29\n",
      "Peru                             31\n",
      "Nicaragua                        34\n",
      "Portugal                         37\n",
      "Iran                             43\n",
      "Haiti                            44\n",
      "Taiwan                           51\n",
      "Columbia                         59\n",
      "Poland                           60\n",
      "Japan                            62\n",
      "Guatemala                        64\n",
      "Vietnam                          67\n",
      "Dominican-Republic               70\n",
      "Italy                            73\n",
      "China                            75\n",
      "South                            80\n",
      "Jamaica                          81\n",
      "England                          90\n",
      "Cuba                             95\n",
      "India                           100\n",
      "El-Salvador                     106\n",
      "Puerto-Rico                     114\n",
      "Canada                          121\n",
      "Germany                         137\n",
      "Philippines                     198\n",
      "?                               583\n",
      "Mexico                          643\n",
      "United-States                 29169\n",
      "Name: Country, dtype: int64\n"
     ]
    }
   ],
   "source": [
    "#check for missing/invalid vlaues in the Country column/feature (IDA)\n",
    "country_values = train_data['Country'].value_counts(ascending=True, dropna=False)\n",
    "print(f'Counts for Country column values:\\n{country_values}')"
   ]
  },
  {
   "cell_type": "code",
   "execution_count": 12,
   "id": "e72fccff",
   "metadata": {},
   "outputs": [],
   "source": [
    "#impute missing values (preprocessing)\n",
    "dimensions_missing = {\"?\": np.nan}\n",
    "train_data['State-gov'] = train_data['State-gov'].replace(dimensions_missing)\n",
    "train_data['Occupation'] = train_data['Occupation'].replace(dimensions_missing)\n",
    "train_data['Country'] = train_data['Country'].replace(dimensions_missing)\n",
    "#drop all missing values\n",
    "train_data = train_data.dropna()"
   ]
  },
  {
   "cell_type": "code",
   "execution_count": 13,
   "id": "f2313c6f",
   "metadata": {},
   "outputs": [
    {
     "name": "stdout",
     "output_type": "stream",
     "text": [
      "       Age  State-gov  fnlwgt  Bachelors  edu-num  status  Occupation  \\\n",
      "0       50        4.0   83311        9.0       13     2.0         3.0   \n",
      "1       38        2.0  215646       11.0        9     0.0         5.0   \n",
      "2       53        2.0  234721        1.0        7     2.0         5.0   \n",
      "3       28        2.0  338409        9.0       13     2.0         9.0   \n",
      "4       37        2.0  284582       12.0       14     2.0         3.0   \n",
      "...    ...        ...     ...        ...      ...     ...         ...   \n",
      "32555   27        2.0  257302        7.0       12     2.0        12.0   \n",
      "32556   40        2.0  154374       11.0        9     2.0         6.0   \n",
      "32557   58        2.0  151910       11.0        9     6.0         0.0   \n",
      "32558   22        2.0  201490       11.0        9     4.0         0.0   \n",
      "32559   52        3.0  287927       11.0        9     2.0         3.0   \n",
      "\n",
      "       Relationship  Race  Sex  capital-gain  capital-loss  hours  Country  \\\n",
      "0               0.0   4.0  1.0             0             0     13     38.0   \n",
      "1               1.0   4.0  1.0             0             0     40     38.0   \n",
      "2               0.0   2.0  1.0             0             0     40     38.0   \n",
      "3               5.0   2.0  0.0             0             0     40      4.0   \n",
      "4               5.0   4.0  0.0             0             0     40     38.0   \n",
      "...             ...   ...  ...           ...           ...    ...      ...   \n",
      "32555           5.0   4.0  0.0             0             0     38     38.0   \n",
      "32556           0.0   4.0  1.0             0             0     40     38.0   \n",
      "32557           4.0   4.0  0.0             0             0     40     38.0   \n",
      "32558           3.0   4.0  1.0             0             0     20     38.0   \n",
      "32559           5.0   4.0  0.0         15024             0     40     38.0   \n",
      "\n",
      "       <=50K  \n",
      "0        0.0  \n",
      "1        0.0  \n",
      "2        0.0  \n",
      "3        0.0  \n",
      "4        0.0  \n",
      "...      ...  \n",
      "32555    0.0  \n",
      "32556    1.0  \n",
      "32557    0.0  \n",
      "32558    0.0  \n",
      "32559    1.0  \n",
      "\n",
      "[30161 rows x 15 columns]\n"
     ]
    }
   ],
   "source": [
    "#ordinal encoder for labelled train data columns\n",
    "enc = OrdinalEncoder()\n",
    "train_data[[\"State-gov\",\"Bachelors\", \"status\", \"Occupation\", \"Relationship\", \"Race\", \"Sex\", \"Country\", \"<=50K\"]] = enc.fit_transform(train_data[[\"State-gov\",\"Bachelors\", \"status\", \"Occupation\", \"Relationship\", \"Race\", \"Sex\", \"Country\", \"<=50K\"]])\n",
    "\n",
    "print(train_data)"
   ]
  },
  {
   "cell_type": "code",
   "execution_count": 14,
   "id": "8f768454",
   "metadata": {},
   "outputs": [
    {
     "name": "stdout",
     "output_type": "stream",
     "text": [
      "       Age  State-gov  fnlwgt  Bachelors  edu-num  status  Occupation  \\\n",
      "0       25        4.0  226802        1.0        7     4.0         7.0   \n",
      "1       38        4.0   89814       11.0        9     2.0         5.0   \n",
      "2       28        2.0  336951        7.0       12     2.0        11.0   \n",
      "3       44        4.0  160323       15.0       10     2.0         7.0   \n",
      "4       18        0.0  103497       15.0       10     4.0         0.0   \n",
      "...    ...        ...     ...        ...      ...     ...         ...   \n",
      "16276   39        4.0  215419        9.0       13     0.0        10.0   \n",
      "16277   64        0.0  321403       11.0        9     6.0         0.0   \n",
      "16278   38        4.0  374983        9.0       13     2.0        10.0   \n",
      "16279   44        4.0   83891        9.0       13     0.0         1.0   \n",
      "16280   35        5.0  182148        9.0       13     2.0         4.0   \n",
      "\n",
      "       Relationship  Race  Sex  capital-gain  capital-loss  hours  Country  \\\n",
      "0               3.0   2.0  1.0             0             0     40     38.0   \n",
      "1               0.0   4.0  1.0             0             0     50     38.0   \n",
      "2               0.0   4.0  1.0             0             0     40     38.0   \n",
      "3               0.0   2.0  1.0          7688             0     40     38.0   \n",
      "4               3.0   4.0  0.0             0             0     30     38.0   \n",
      "...             ...   ...  ...           ...           ...    ...      ...   \n",
      "16276           1.0   4.0  0.0             0             0     36     38.0   \n",
      "16277           2.0   2.0  1.0             0             0     40     38.0   \n",
      "16278           0.0   4.0  1.0             0             0     50     38.0   \n",
      "16279           3.0   1.0  1.0          5455             0     40     38.0   \n",
      "16280           0.0   4.0  1.0             0             0     60     38.0   \n",
      "\n",
      "       <=50K  \n",
      "0        0.0  \n",
      "1        0.0  \n",
      "2        1.0  \n",
      "3        1.0  \n",
      "4        0.0  \n",
      "...      ...  \n",
      "16276    0.0  \n",
      "16277    0.0  \n",
      "16278    0.0  \n",
      "16279    0.0  \n",
      "16280    1.0  \n",
      "\n",
      "[16281 rows x 15 columns]\n"
     ]
    }
   ],
   "source": [
    "#ordinal encoder for labelled test data columns\n",
    "enc = OrdinalEncoder()\n",
    "test_data[[\"State-gov\",\"Bachelors\", \"status\", \"Occupation\", \"Relationship\", \"Race\", \"Sex\", \"Country\", \"<=50K\"]] = enc.fit_transform(test_data[[\"State-gov\",\"Bachelors\", \"status\", \"Occupation\", \"Relationship\", \"Race\", \"Sex\", \"Country\", \"<=50K\"]])\n",
    "\n",
    "print(test_data)"
   ]
  },
  {
   "cell_type": "code",
   "execution_count": 15,
   "id": "390ea0ab",
   "metadata": {},
   "outputs": [
    {
     "data": {
      "text/plain": [
       "<AxesSubplot:>"
      ]
     },
     "execution_count": 15,
     "metadata": {},
     "output_type": "execute_result"
    },
    {
     "data": {
      "image/png": "[encoded data removed]",
      "text/plain": [
       "<Figure size 432x288 with 1 Axes>"
      ]
     },
     "metadata": {
      "needs_background": "light"
     },
     "output_type": "display_data"
    }
   ],
   "source": [
    "#box plot\n",
    "data = train_data[[\"State-gov\",\"Bachelors\", \"status\", \"Occupation\", \"Relationship\", \"Race\", \"Sex\", \"Country\", \"<=50K\"]]\n",
    "sns.boxplot(data=data)"
   ]
  },
  {
   "cell_type": "code",
   "execution_count": 16,
   "id": "2a3e6400",
   "metadata": {},
   "outputs": [
    {
     "data": {
      "text/plain": [
       "<AxesSubplot:>"
      ]
     },
     "execution_count": 16,
     "metadata": {},
     "output_type": "execute_result"
    },
    {
     "data": {
      "image/png": "[encoded data removed]",
      "text/plain": [
       "<Figure size 432x288 with 1 Axes>"
      ]
     },
     "metadata": {
      "needs_background": "light"
     },
     "output_type": "display_data"
    }
   ],
   "source": [
    "#box plot\n",
    "data = test_data[[\"State-gov\",\"Bachelors\", \"status\", \"Occupation\", \"Relationship\", \"Race\", \"Sex\", \"Country\", \"<=50K\"]]\n",
    "sns.boxplot(data=data)"
   ]
  },
  {
   "cell_type": "code",
   "execution_count": 17,
   "id": "6c44545d",
   "metadata": {},
   "outputs": [],
   "source": [
    "#remove .(dots) from the last column in test dataframe\n",
    "#since train_data does not have dots\n",
    "#test_data[\"<=50K\"] = test_data[\"<=50K\"].str[:-1]\n",
    "\n",
    "#print(test_data[\"<=50K\"])"
   ]
  },
  {
   "cell_type": "code",
   "execution_count": 18,
   "id": "db259201",
   "metadata": {},
   "outputs": [
    {
     "data": {
      "text/plain": [
       "(30161, 14)"
      ]
     },
     "execution_count": 18,
     "metadata": {},
     "output_type": "execute_result"
    }
   ],
   "source": [
    "#standardize and fit training dataframe\n",
    "X_train = train_data[train_data.columns[:-1]]\n",
    "y_train = train_data.iloc[:, -1]\n",
    "\n",
    "#select 15 k best features and discard informationless features.\n",
    "#X_train = SelectKBest(chi2, k=12).fit_transform(X_train, y_train)\n",
    "\n",
    "X_train = StandardScaler().fit_transform(X_train)\n",
    "X_train.shape"
   ]
  },
  {
   "cell_type": "code",
   "execution_count": 19,
   "id": "682b6663",
   "metadata": {},
   "outputs": [
    {
     "data": {
      "text/plain": [
       "(16281, 14)"
      ]
     },
     "execution_count": 19,
     "metadata": {},
     "output_type": "execute_result"
    }
   ],
   "source": [
    "#standardize and fit testing dataframe\n",
    "X_test = test_data[test_data.columns[:-1]]\n",
    "y_test = test_data.iloc[:, -1]\n",
    "\n",
    "#select 15 k best features and discard informationless features.\n",
    "#X_test = SelectKBest(chi2, k=12).fit_transform(X_test, y_test)\n",
    "\n",
    "X_test = StandardScaler().fit_transform(X_test)\n",
    "X_test.shape"
   ]
  },
  {
   "cell_type": "code",
   "execution_count": 20,
   "id": "3a949b6f",
   "metadata": {},
   "outputs": [],
   "source": [
    "#Classifiers\n",
    "classifiers = []\n",
    "names = []"
   ]
  },
  {
   "cell_type": "code",
   "execution_count": 21,
   "id": "9efd3b2f",
   "metadata": {},
   "outputs": [],
   "source": [
    "#KNeighbors Classifier\n",
    "knn_cl = KNeighborsClassifier()\n",
    "\n",
    "classifiers.append(knn_cl)\n",
    "names.append('KNeighbors Classifier')"
   ]
  },
  {
   "cell_type": "code",
   "execution_count": 22,
   "id": "42358c0e",
   "metadata": {},
   "outputs": [],
   "source": [
    "#GaussianNB Classifier\n",
    "gnb_cl = GaussianNB()\n",
    "\n",
    "classifiers.append(gnb_cl)\n",
    "names.append('GaussianNB Classifier')"
   ]
  },
  {
   "cell_type": "code",
   "execution_count": 23,
   "id": "f87342ec",
   "metadata": {},
   "outputs": [],
   "source": [
    "#SVM Classifier\n",
    "svm_cl = svm.SVC()\n",
    "\n",
    "classifiers.append(svm_cl)\n",
    "names.append('SVM Classifier')"
   ]
  },
  {
   "cell_type": "code",
   "execution_count": 24,
   "id": "285d7528",
   "metadata": {},
   "outputs": [],
   "source": [
    "#Decision Tree Classifier\n",
    "dt_cl = DecisionTreeClassifier()\n",
    "\n",
    "classifiers.append(dt_cl)\n",
    "names.append('Decision Tree Classifier')"
   ]
  },
  {
   "cell_type": "code",
   "execution_count": 25,
   "id": "ae1b10c1",
   "metadata": {},
   "outputs": [],
   "source": [
    "#Random Forest Classifier\n",
    "rf_cl = RandomForestClassifier()\n",
    "\n",
    "classifiers.append(rf_cl)\n",
    "names.append('Random Forest Classifier')"
   ]
  },
  {
   "cell_type": "code",
   "execution_count": 26,
   "id": "4af332df",
   "metadata": {},
   "outputs": [],
   "source": [
    "#Ada Boost Classifier\n",
    "ab_cl = AdaBoostClassifier()\n",
    "\n",
    "classifiers.append(ab_cl)\n",
    "names.append('Ada Boost Classifier')"
   ]
  },
  {
   "cell_type": "code",
   "execution_count": 27,
   "id": "6bfa2b5b",
   "metadata": {},
   "outputs": [],
   "source": [
    "#Gradient Boosting Classifier\n",
    "gb_cl = GradientBoostingClassifier()\n",
    "\n",
    "classifiers.append(gb_cl)\n",
    "names.append('Gradient Boosting Classifier')"
   ]
  },
  {
   "cell_type": "code",
   "execution_count": 28,
   "id": "9383c0fa",
   "metadata": {},
   "outputs": [],
   "source": [
    "#Linear Discriminant Analysis Classifier\n",
    "lda_cl = LinearDiscriminantAnalysis()\n",
    "\n",
    "classifiers.append(lda_cl)\n",
    "names.append('Linear Discriminant Analysis')"
   ]
  },
  {
   "cell_type": "code",
   "execution_count": 29,
   "id": "b0595969",
   "metadata": {},
   "outputs": [],
   "source": [
    "#MLP Classifier\n",
    "mlp_cl = MLPClassifier()\n",
    "\n",
    "classifiers.append(mlp_cl)\n",
    "names.append('MLP Classifier')"
   ]
  },
  {
   "cell_type": "code",
   "execution_count": 30,
   "id": "6144c19c",
   "metadata": {},
   "outputs": [],
   "source": [
    "#Logistic Regression Classifier\n",
    "lr_cl = LogisticRegression()\n",
    "\n",
    "classifiers.append(lr_cl)\n",
    "names.append('Logistic Regression')"
   ]
  },
  {
   "cell_type": "code",
   "execution_count": 31,
   "id": "64ccc4fd",
   "metadata": {},
   "outputs": [
    {
     "name": "stdout",
     "output_type": "stream",
     "text": [
      "Starting model evaluations..\n",
      "KNeighbors Classifier: done\n",
      "GaussianNB Classifier: done\n",
      "SVM Classifier: done\n",
      "Decision Tree Classifier: done\n",
      "Random Forest Classifier: done\n",
      "Ada Boost Classifier: done\n",
      "Gradient Boosting Classifier: done\n",
      "Linear Discriminant Analysis: done\n",
      "MLP Classifier: done\n",
      "Logistic Regression: done\n",
      "Model evaluations: done\n"
     ]
    }
   ],
   "source": [
    "#ignore warnings\n",
    "warnings.filterwarnings(\"ignore\")\n",
    "\n",
    "#evaluate each classifier\n",
    "print('Starting model evaluations..')\n",
    "results = [['Model', 'Accuracy', 'Precision', 'Recall', 'F1-Score', 'AUC', 'Exec Time']]\n",
    "\n",
    "for i in range(len(classifiers)):\n",
    "    name = names[i]\n",
    "    clf = classifiers[i]\n",
    "    start_time = time.time()\n",
    "\n",
    "    clf.fit(X_train, y_train)\n",
    "    y_pred = clf.predict(X_test)\n",
    "\n",
    "    accuracy = round(accuracy_score(y_test, y_pred), 2)\n",
    "    precision = round(precision_score(y_test, y_pred), 2)\n",
    "    recall = round(recall_score(y_test, y_pred), 2)\n",
    "    f1 = round(f1_score(y_test, y_pred), 2)\n",
    "    auc = round(roc_auc_score(y_test, y_pred), 2)\n",
    "    \n",
    "    end_time = time.time()\n",
    "    #calculate execution time\n",
    "    exec_time = round(end_time - start_time, 2)\n",
    "\n",
    "    results.append([name, accuracy, precision, recall, f1, auc, exec_time])\n",
    "    print(f'{name}: done')\n",
    "    \n",
    "print('Model evaluations: done')"
   ]
  },
  {
   "cell_type": "code",
   "execution_count": 32,
   "id": "548d3731",
   "metadata": {},
   "outputs": [
    {
     "data": {
      "image/png": "[encoded data removed]",
      "text/plain": [
       "<Figure size 432x288 with 1 Axes>"
      ]
     },
     "metadata": {
      "needs_background": "light"
     },
     "output_type": "display_data"
    }
   ],
   "source": [
    "#result table\n",
    "#https://www.statology.org/matplotlib-table/\n",
    "#define figure and axes\n",
    "fig, ax = plt.subplots()\n",
    "\n",
    "#create table\n",
    "table = ax.table(cellText=results, loc='center')\n",
    "\n",
    "#modify table\n",
    "table.set_fontsize(20)\n",
    "table.scale(3, 4)\n",
    "ax.axis('off')\n",
    "\n",
    "#display table\n",
    "plt.show()"
   ]
  }
 ],
 "metadata": {
  "kernelspec": {
   "display_name": "Python 3",
   "language": "python",
   "name": "python3"
  },
  "language_info": {
   "codemirror_mode": {
    "name": "ipython",
    "version": 3
   },
   "file_extension": ".py",
   "mimetype": "text/x-python",
   "name": "python",
   "nbconvert_exporter": "python",
   "pygments_lexer": "ipython3",
   "version": "3.8.8"
  }
 },
 "nbformat": 4,
 "nbformat_minor": 5
}
